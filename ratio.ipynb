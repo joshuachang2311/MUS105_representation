{
 "cells": [
  {
   "cell_type": "markdown",
   "metadata": {},
   "source": [
    "# Ratio\n",
    "A class that implements fractional numbers. The `Ratio` class provides exact arithmetic for representing exact musical quantities such as proportional (metric) time, duration, and 'just' tuning intervals. Ratios can be created from two integers or from a string. Ratios are compared and combined using the standard math operators."
   ]
  },
  {
   "cell_type": "code",
   "execution_count": 15,
   "metadata": {},
   "outputs": [],
   "source": [
    "class Ratio:\n",
    "    pass"
   ]
  },
  {
   "cell_type": "markdown",
   "metadata": {},
   "source": [
    "## Ratio.\\_\\_init\\_\\_\n",
    "#### Creates a Ratio from integers, a floating point number, or a string name.\n",
    " * `Ratio(int, int)` - creates a ratio from an integer numerator and denominator.\n",
    " * `Ratio(int)` - creates a ratio from an integer numerator with the denominator set to 1.\n",
    " * `Ratio(float)` - creates a ratio from a floating point number (see: `as_integer_ratio()`)\n",
    " * `Ratio(string)` -  creates a ratio from a string 'num/den'. Both num and den must produce valid integers.\n",
    "\n",
    "```\n",
    "@param num If only num is specified it must be either an integer, float, or a string containing a valid ratio expression 'a/b'. If both num and den are provided they must both be integer value.\n",
    "@param den If specified den must be a non-zero integer denominator\n",
    "```\n",
    "\n",
    "Upon construction the new ratio will always be expressed in its most simple form, for example `Ratio(6,12)` will become `Ratio(1/2)`, See: `gcd()`. If both the numerator and denominator are negative the ratio should be converted to positive by the constructor.\n",
    "\n",
    "The constructor should raise a `TypeError` if the num or den is not a integer, string or float and a `DivisionByZero` error if the denominator is 0."
   ]
  },
  {
   "cell_type": "code",
   "execution_count": 11,
   "metadata": {},
   "outputs": [],
   "source": [
    "    def __init__(self, num, den=None):\n",
    "        pass"
   ]
  }
 ],
 "metadata": {
  "kernelspec": {
   "display_name": "Python 3",
   "language": "python",
   "name": "python3"
  },
  "language_info": {
   "codemirror_mode": {
    "name": "ipython",
    "version": 3
   },
   "file_extension": ".py",
   "mimetype": "text/x-python",
   "name": "python",
   "nbconvert_exporter": "python",
   "pygments_lexer": "ipython3",
   "version": "3.6.8"
  }
 },
 "nbformat": 4,
 "nbformat_minor": 2
}
