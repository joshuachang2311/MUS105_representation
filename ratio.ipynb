{
 "cells": [
  {
   "cell_type": "markdown",
   "metadata": {},
   "source": [
    "# Ratio\n",
    "A class that implements fractional numbers. The `Ratio` class provides exact arithmetic for representing exact musical quantities such as proportional (metric) time, duration, and 'just' tuning intervals. Ratios can be created from two integers or from a string. Ratios are compared and combined using the standard math operators."
   ]
  },
  {
   "cell_type": "code",
   "execution_count": 1,
   "metadata": {},
   "outputs": [],
   "source": [
    "import math\n",
    "from decimal import Decimal\n",
    "\n",
    "class Ratio:\n",
    "    pass"
   ]
  },
  {
   "cell_type": "markdown",
   "metadata": {},
   "source": [
    "## `Ratio.__init__`\n",
    "#### Creates a `Ratio` from integers, a floating point number, or a string name.\n",
    " * `Ratio(int, int)` - creates a ratio from an integer numerator and denominator.\n",
    " * `Ratio(int)` - creates a ratio from an integer numerator with the denominator set to 1.\n",
    " * `Ratio(float)` - creates a ratio from a floating point number (see: `as_integer_ratio()`)\n",
    " * `Ratio(string)` -  creates a ratio from a string 'num/den'. Both num and den must produce valid integers.\n",
    "\n",
    "```\n",
    "@param num If only num is specified it must be either an integer, float, or a string containing a valid ratio expression 'a/b'. If both num and den are provided they must both be integer value.\n",
    "@param den If specified den must be a non-zero integer denominator\n",
    "```\n",
    "\n",
    "Upon construction the new ratio will always be expressed in its most simple form, for example `Ratio(6,12)` will become `Ratio(1/2)`, See: `gcd()`. If both the numerator and denominator are negative the ratio should be converted to positive by the constructor.\n",
    "\n",
    "The constructor should raise a `TypeError` if the num or den is not an integer, string or float and a `ZeroDivisionError` if the denominator is 0."
   ]
  },
  {
   "cell_type": "code",
   "execution_count": 2,
   "metadata": {},
   "outputs": [],
   "source": [
    "def __init__(self, num, den=None):\n",
    "    if isinstance(num, int):\n",
    "        self.num = num\n",
    "        \n",
    "        if isinstance(den, int):\n",
    "            self.den = den\n",
    "        elif den == None:\n",
    "            self.den = 1\n",
    "        else:\n",
    "            raise TypeError(\"Denominator is not an integer\")\n",
    "        \n",
    "        if self.num * self.den > 0:\n",
    "            self.num = abs(self.num)\n",
    "            self.den = abs(self.den)\n",
    "        else:\n",
    "            self.num = -abs(self.num)\n",
    "            self.den = abs(self.den)\n",
    "    elif isinstance(num, float):\n",
    "        if den != None:\n",
    "            raise TypeError(\"Denominator should be None when numerator is float\")\n",
    "        self.num, self.den = Decimal(str(num)).as_integer_ratio()\n",
    "    elif isinstance(num, str):\n",
    "        length = len(num)\n",
    "        self.num = ''\n",
    "        self.den = ''\n",
    "        i = 0\n",
    "        has_slash = False\n",
    "        \n",
    "        if length > 0 and num[i] == '-':\n",
    "            self.num += '-'\n",
    "            i += 1\n",
    "        \n",
    "        while i < length:\n",
    "            if num[i] >= '0' and num[i] <= '9':\n",
    "                self.num += num[i]\n",
    "                i += 1\n",
    "            elif num[i] == '/':\n",
    "                has_slash = True\n",
    "                i += 1\n",
    "                break\n",
    "            else:\n",
    "                raise TypeError(\"Numerator is not an integer\")\n",
    "        \n",
    "        if has_slash:\n",
    "            if length > 0 and num[i] == '-':\n",
    "                self.num += '-'\n",
    "                i += 1\n",
    "            \n",
    "            while i < length:\n",
    "                if num[i] >= '0' and num[i] <= '9':\n",
    "                    self.den += num[i]\n",
    "                    i += 1\n",
    "                else:\n",
    "                    raise TypeError(\"Denominator is not an integer\")\n",
    "            \n",
    "            try:\n",
    "                self.num = int(self.num)\n",
    "                self.den = int(self.den)\n",
    "            except:\n",
    "                raise ValueError(\"Denominator cannot be empty\")\n",
    "        else:\n",
    "            raise ValueError(\"Denominator cannot be empty\")\n",
    "    \n",
    "    if self.den == 0:\n",
    "        raise ZeroDivisionError(\"Denominator is 0\")\n",
    "        \n",
    "    if self.num * self.den > 0:\n",
    "        self.num = abs(self.num)\n",
    "        self.den = abs(self.den)\n",
    "    else:\n",
    "        self.num = -abs(self.num)\n",
    "        self.den = abs(self.den)\n",
    "    gcd = math.gcd(self.num, self.den)\n",
    "    self.num, self.den = self.num // gcd, self.den // gcd\n",
    "\n",
    "Ratio.__init__ = __init__"
   ]
  },
  {
   "cell_type": "markdown",
   "metadata": {},
   "source": [
    "## `Ratio.__str__`\n",
    "#### Returns a string showing the ratio's fraction and the `hex` value of the ratio's memory address.\n",
    "Example: `<Ratio: 1/4 0x10610d2b0>`"
   ]
  },
  {
   "cell_type": "code",
   "execution_count": 3,
   "metadata": {},
   "outputs": [],
   "source": [
    "def __str__(self):\n",
    "    return f'<Ratio: {self.num}/{self.den} {hex(id(self))}>'\n",
    "\n",
    "Ratio.__str__ = __str__"
   ]
  },
  {
   "cell_type": "markdown",
   "metadata": {},
   "source": [
    "## `Ratio.__repr__`\n",
    "#### Returns a string expression that will evaluate to this ratio."
   ]
  },
  {
   "cell_type": "code",
   "execution_count": 4,
   "metadata": {},
   "outputs": [],
   "source": [
    "def __repr__(self):\n",
    "    return f'Ratio(\"{self.num}/{self.den}\")'\n",
    "\n",
    "Ratio.__repr__ = __repr__"
   ]
  },
  {
   "cell_type": "markdown",
   "metadata": {},
   "source": [
    "## `Ratio.__mul__`\n",
    "#### Implements `Ratio * Ratio`, `Ratio * int` and `Ratio * float`.\n",
    "\n",
    "```\n",
    "@param other An Ratio, int or float.\n",
    "@returns A Ratio if other is a Ratio or an int, otherwise a float.\n",
    "```\n",
    "    \n",
    "A `TypeError` should be raised if other is not a `Ratio`, `int` or `float`."
   ]
  },
  {
   "cell_type": "code",
   "execution_count": 5,
   "metadata": {},
   "outputs": [],
   "source": [
    "def __mul__(self, other):\n",
    "    if isinstance(other, float):\n",
    "        return self.num / self.den * other\n",
    "    elif isinstance(other, Ratio):\n",
    "        num, den = self.num * other.num, self.den * other.den\n",
    "    elif isinstance(other, int):\n",
    "        num, den = self.num * other, self.den\n",
    "    else:\n",
    "        raise TypeError(\"Other is not a Ratio, int or float\")\n",
    "    \n",
    "    gcd = math.gcd(num, den)    \n",
    "    return Ratio(num // gcd, den // gcd)\n",
    "\n",
    "Ratio.__mul__ = __mul__"
   ]
  },
  {
   "cell_type": "markdown",
   "metadata": {},
   "source": [
    "## `Ratio.__rmul__`\n",
    "#### Implements right side multiplication by calling `__mul__`\n",
    "`__rmul__ = __mul__`"
   ]
  },
  {
   "cell_type": "code",
   "execution_count": 6,
   "metadata": {},
   "outputs": [],
   "source": [
    "def __rmul__(self, other):\n",
    "    return __mul__(self, other)\n",
    "\n",
    "Ratio.__rmul__ = __rmul__"
   ]
  },
  {
   "cell_type": "markdown",
   "metadata": {},
   "source": [
    "## `Ratio.__invert__`\n",
    "#### Implements 1 / ratio (reciprocal).\n",
    "\n",
    "```\n",
    "@returns A new Ratio.\n",
    "```"
   ]
  },
  {
   "cell_type": "code",
   "execution_count": 7,
   "metadata": {},
   "outputs": [],
   "source": [
    "def __invert__(self):\n",
    "    if self.num == 0:\n",
    "        raise ZeroDivisionError(\"Numerator is 0\")\n",
    "    elif self.num > 0:\n",
    "        return Ratio(self.den, self.num)\n",
    "    else:\n",
    "        return Ratio(-self.den, -self.num)\n",
    "        \n",
    "Ratio.__invert__ = __invert__"
   ]
  },
  {
   "cell_type": "markdown",
   "metadata": {},
   "source": [
    "## `Ratio.__truediv__`\n",
    "#### Implements `Ratio / Ratio`, `Ratio / int` and `Ratio / float`.\n",
    "\n",
    "```\n",
    "@param other A Ratio, int or float.\n",
    "@returns A Ratio if other is a Ratio or an int, otherwise a float.\n",
    "```\n",
    "\n",
    "A TypeError should be raised if other is not a `Ratio`, `int` or `float`."
   ]
  },
  {
   "cell_type": "code",
   "execution_count": 8,
   "metadata": {},
   "outputs": [],
   "source": [
    "def __truediv__(self, other):\n",
    "    if isinstance(other, Ratio):\n",
    "        return self * other.__invert__()\n",
    "    elif isinstance(other, int):\n",
    "        if other == 0:\n",
    "            raise ZeroDivisionError(\"Other is 0\")\n",
    "        else:\n",
    "            num, den = self.num, self.den * other\n",
    "\n",
    "        gcd = math.gcd(num, den)\n",
    "        return Ratio(num // gcd, den // gcd)\n",
    "    elif isinstance(other, float):\n",
    "        if other == 0:\n",
    "            raise ZeroDivisionError(\"Other is 0\")\n",
    "        else:\n",
    "            return self.num / self.den / other\n",
    "    else:\n",
    "        raise TypeError(\"Other is not a Ratio, int or float\")\n",
    "        \n",
    "Ratio.__truediv__ = __truediv__"
   ]
  },
  {
   "cell_type": "markdown",
   "metadata": {},
   "source": [
    "## `Ratio.__rtruediv__`\n",
    "#### Implements `int / Ratio` or `float / Ratio` (right side division).\n",
    "\n",
    "```\n",
    "@returns A new Ratio.\n",
    "```"
   ]
  },
  {
   "cell_type": "code",
   "execution_count": 9,
   "metadata": {},
   "outputs": [],
   "source": [
    "def __rtruediv__(self, other):\n",
    "    if isinstance(other, (Ratio, int, float)):\n",
    "        return self.__invert__() * other\n",
    "    else:\n",
    "        raise TypeError(\"Other is not a Ratio, int or float\")\n",
    "        \n",
    "Ratio.__rtruediv__ = __rtruediv__"
   ]
  },
  {
   "cell_type": "markdown",
   "metadata": {},
   "source": [
    "## `Ratio.lcm`\n",
    "#### A static method that returns the lowest common multiple of two integers a and b. lcm be calculated using `gcd()`: `(a * b) // gcd(a, b)`"
   ]
  },
  {
   "cell_type": "code",
   "execution_count": 10,
   "metadata": {},
   "outputs": [],
   "source": [
    "def lcm(a, b):\n",
    "    if isinstance(a, int) and isinstance(b, int):\n",
    "        return (a * b) // math.gcd(a, b)\n",
    "    else:\n",
    "        raise TypeError(\"Input numbers are not int\")\n",
    "        \n",
    "Ratio.lcm = lcm"
   ]
  },
  {
   "cell_type": "markdown",
   "metadata": {},
   "source": [
    "## `Ratio.__add__`\n",
    "#### Implements `Ratio + Ratio`, `Ratio + int` and `Ratio + float`.\n",
    "In order to add two ratios their denominators must be converted to the least common multiple of the current denominator. See: `lcm()`.\n",
    "\n",
    "```\n",
    "@returns A new Ratio.\n",
    "```"
   ]
  },
  {
   "cell_type": "code",
   "execution_count": 11,
   "metadata": {},
   "outputs": [],
   "source": [
    "def __add__(self, other):\n",
    "    if isinstance(other, Ratio):\n",
    "        lcm = Ratio.lcm(self.den, other.den)\n",
    "        return Ratio(self.num * lcm // self.den + other.num * lcm // other.den, lcm)\n",
    "    elif isinstance(other, int):\n",
    "        return Ratio(self.num + other * self.den, self.den)\n",
    "    elif isinstance(other, float):\n",
    "        return self.num / self.den + other\n",
    "    else:\n",
    "        raise TypeError(\"Other is not a Ratio, int or float\")\n",
    "        \n",
    "Ratio.__add__ = __add__"
   ]
  },
  {
   "cell_type": "markdown",
   "metadata": {},
   "source": [
    "## `Ratio.__radd__`\n",
    "#### Implements right side addition by calling __add__.\n",
    "\n",
    "```\n",
    "@returns A new Ratio.\n",
    "```\n",
    "`__radd__ = __add__`"
   ]
  },
  {
   "cell_type": "code",
   "execution_count": 12,
   "metadata": {},
   "outputs": [],
   "source": [
    "def __radd__(self, other):\n",
    "    return self + other\n",
    "\n",
    "Ratio.__radd__ = __radd__"
   ]
  },
  {
   "cell_type": "markdown",
   "metadata": {},
   "source": [
    "## `Ratio.__neg__`\n",
    "#### Implements `-ratio` (negation).\n",
    "```\n",
    "@returns A new Ratio.\n",
    "```"
   ]
  },
  {
   "cell_type": "code",
   "execution_count": 13,
   "metadata": {},
   "outputs": [],
   "source": [
    "def __neg__(self):\n",
    "    return Ratio(self.num * -1, self.den)\n",
    "\n",
    "Ratio.__neg__ = __neg__"
   ]
  },
  {
   "cell_type": "markdown",
   "metadata": {},
   "source": [
    "## `Ratio.__sub__`\n",
    "#### Implements `Ratio - Ratio`, `Ratio - int` and `Ratio - float`.\n",
    "\n",
    "```\n",
    "@returns A new Ratio.\n",
    "```"
   ]
  },
  {
   "cell_type": "code",
   "execution_count": 14,
   "metadata": {},
   "outputs": [],
   "source": [
    "def __sub__(self, other):\n",
    "    return self + -other\n",
    "\n",
    "Ratio.__sub__ = __sub__"
   ]
  },
  {
   "cell_type": "markdown",
   "metadata": {},
   "source": [
    "## `Ratio.__rsub__`\n",
    "#### Implements `int - Ratio` and `float - Ratio` (right side subtraction).\n",
    "\n",
    "```\n",
    "@returns A new Ratio.\n",
    "```"
   ]
  },
  {
   "cell_type": "code",
   "execution_count": 15,
   "metadata": {},
   "outputs": [],
   "source": [
    "def __rsub__(self, other):\n",
    "    return -self + other\n",
    "\n",
    "Ratio.__rsub__ = __rsub__"
   ]
  },
  {
   "cell_type": "markdown",
   "metadata": {},
   "source": [
    "## `Ratio.__mod__`\n",
    "#### Implements `Ratio % Ratio`.\n",
    "\n",
    "```\n",
    "@returns A new Ratio.\n",
    "```"
   ]
  },
  {
   "cell_type": "code",
   "execution_count": 16,
   "metadata": {},
   "outputs": [],
   "source": [
    "def __mod__(self, other):\n",
    "    if not isinstance(other, (Ratio, int)):\n",
    "        raise TypeError(\"Other is not a Ratio or int\")\n",
    "    elif isinstance(other, int):\n",
    "        other = Ratio(other)\n",
    "    \n",
    "    q = int(self / other * 1.0)\n",
    "    d = self - other * q\n",
    "    \n",
    "    if d.num < 0:\n",
    "        if other.num < 0:\n",
    "            d -= other\n",
    "        else:\n",
    "            d += other\n",
    "    \n",
    "    return d\n",
    "    \n",
    "Ratio.__mod__ = __mod__"
   ]
  },
  {
   "cell_type": "markdown",
   "metadata": {},
   "source": [
    "## `Ratio.__pow__`\n",
    "#### Implements `Ratio ** int`, `Ratio ** float`, and `Ratio ** Ratio`.\n",
    "\n",
    "```\n",
    "@returns If the exponent is a positive or negative `int` a `Ratio` should be returned. otherwise for `Ratio` or `float` exponents a `float` should be returned. See: `math.pow()`.\n",
    "```"
   ]
  },
  {
   "cell_type": "code",
   "execution_count": 17,
   "metadata": {},
   "outputs": [],
   "source": [
    "def __pow__(self, other):\n",
    "    if isinstance(other, int):\n",
    "        to_return = self\n",
    "        \n",
    "        if other < 0:\n",
    "            to_return = to_return.__invert__()\n",
    "            other = -other\n",
    "            \n",
    "        to_return.num = to_return.num ** other\n",
    "        to_return.den = to_return.den ** other\n",
    "        \n",
    "        return to_return\n",
    "    elif isinstance(other, (Ratio, float)):\n",
    "        return (1.0 * self) ** (1.0 * other)\n",
    "    else:\n",
    "        raise TypeError(\"Other is not a Ratio, int or float\")\n",
    "\n",
    "Ratio.__pow__ = __pow__"
   ]
  },
  {
   "cell_type": "markdown",
   "metadata": {},
   "source": [
    "## `Ratio.__rpow__`\n",
    "#### Implements an `int ** Ratio` or `float ** Ratio`\n",
    "\n",
    "```\n",
    "@param other  The base integer or float.\n",
    "@returns A floating point number.\n",
    "```\n",
    "\n",
    "The function can be implemented using math.pow()."
   ]
  },
  {
   "cell_type": "code",
   "execution_count": 18,
   "metadata": {},
   "outputs": [],
   "source": [
    "def __rpow__(self, other):\n",
    "    if isinstance(other, (int, float)):\n",
    "        return (1.0 * other) ** (1.0 * self)\n",
    "    else:\n",
    "        raise TypeError(\"Other is not a int or float\")\n",
    "\n",
    "Ratio.__rpow__ = __rpow__"
   ]
  },
  {
   "cell_type": "markdown",
   "metadata": {},
   "source": [
    "## `Ratio.__lt__`\n",
    "#### Implements `Ratio < Ratio`, `Ratio < int`, `Ratio < float`. See: `compare()`."
   ]
  },
  {
   "cell_type": "code",
   "execution_count": 19,
   "metadata": {},
   "outputs": [],
   "source": [
    "def __lt__(self, other):\n",
    "    if isinstance(other, (Ratio, int)):\n",
    "        return (self - other).num < 0\n",
    "    elif isinstance(other, float):\n",
    "        return self - other < 0\n",
    "    else:\n",
    "        raise TypeError(\"Other is not a Ratio, int or float\")\n",
    "    \n",
    "Ratio.__lt__ = __lt__"
   ]
  },
  {
   "cell_type": "markdown",
   "metadata": {},
   "source": [
    "## `Ratio.__le__`\n",
    "#### Implements `Ratio <= Ratio`, `Ratio <= int`, `Ratio <= float`. See: `compare()`."
   ]
  },
  {
   "cell_type": "code",
   "execution_count": 20,
   "metadata": {},
   "outputs": [],
   "source": [
    "def __le__(self, other):\n",
    "    if isinstance(other, (Ratio, int)):\n",
    "        return (self - other).num <= 0\n",
    "    elif isinstance(other, float):\n",
    "        return self - other <= 0\n",
    "    else:\n",
    "        raise TypeError(\"Other is not a Ratio, int or float\")\n",
    "    \n",
    "Ratio.__le__ = __le__"
   ]
  },
  {
   "cell_type": "markdown",
   "metadata": {},
   "source": [
    "## `Ratio.__eq__`\n",
    "#### Implements `Ratio == Ratio`, `Ratio == int`, `Ratio == float`. See: `compare()`."
   ]
  },
  {
   "cell_type": "code",
   "execution_count": 21,
   "metadata": {},
   "outputs": [],
   "source": [
    "def __eq__(self, other):\n",
    "    if isinstance(other, (Ratio, int)):\n",
    "        return (self - other).num == 0\n",
    "    elif isinstance(other, float):\n",
    "        return self - other == 0\n",
    "    else:\n",
    "        return False\n",
    "    \n",
    "Ratio.__eq__ = __eq__"
   ]
  },
  {
   "cell_type": "markdown",
   "metadata": {},
   "source": [
    "## `Ratio.__ne__`\n",
    "#### Implements `Ratio != Ratio`, `Ratio != int`, `Ratio != float`. See: `compare()`."
   ]
  },
  {
   "cell_type": "code",
   "execution_count": 22,
   "metadata": {},
   "outputs": [],
   "source": [
    "def __ne__(self, other):\n",
    "    return not self == other\n",
    "\n",
    "Ratio.__ne__ = __ne__"
   ]
  },
  {
   "cell_type": "markdown",
   "metadata": {},
   "source": [
    "## `Ratio.__ge__`\n",
    "#### Implements `Ratio >= Ratio`, `Ratio >= int`, `Ratio >= float`. See: `compare()`."
   ]
  },
  {
   "cell_type": "code",
   "execution_count": 23,
   "metadata": {},
   "outputs": [],
   "source": [
    "def __ge__(self, other):\n",
    "    if isinstance(other, (Ratio, int)):\n",
    "        return (self - other).num >= 0\n",
    "    elif isinstance(other, float):\n",
    "        return self - other >= 0\n",
    "    else:\n",
    "        raise TypeError(\"Other is not a Ratio, int or float\")\n",
    "    \n",
    "Ratio.__ge__ = __ge__"
   ]
  },
  {
   "cell_type": "markdown",
   "metadata": {},
   "source": [
    "## `Ratio.__gt__`\n",
    "#### Implements `Ratio > Ratio`, `Ratio > int`, `Ratio > float`. See: `compare()`."
   ]
  },
  {
   "cell_type": "code",
   "execution_count": 24,
   "metadata": {},
   "outputs": [],
   "source": [
    "def __gt__(self, other):\n",
    "    if isinstance(other, (Ratio, int)):\n",
    "        return (self - other).num > 0\n",
    "    elif isinstance(other, float):\n",
    "        return self - other > 0\n",
    "    else:\n",
    "        raise TypeError(\"Other is not a Ratio, int or float\")\n",
    "    \n",
    "Ratio.__gt__ = __gt__"
   ]
  },
  {
   "cell_type": "markdown",
   "metadata": {},
   "source": [
    "## `Ratio.__hash__`\n",
    "#### Returns a single integer hash value for the ratio: `num << 16 + den`"
   ]
  },
  {
   "cell_type": "code",
   "execution_count": 25,
   "metadata": {},
   "outputs": [],
   "source": [
    "def __hash__(self):\n",
    "    return self.num << 16 + self.den\n",
    "\n",
    "Ratio.__hash__ = __hash__"
   ]
  },
  {
   "cell_type": "markdown",
   "metadata": {},
   "source": [
    "## `Ratio.compare`\n",
    "#### Helper method implements ratio comparison.\n",
    "\n",
    "Returns 0 if the ratios are equal, a negative value if self is less than other and a positive value if self is GEQ other. Given two ratios the comparison is `(num1 * den2) - (num2 * den1)`"
   ]
  },
  {
   "cell_type": "code",
   "execution_count": 26,
   "metadata": {},
   "outputs": [],
   "source": [
    "def compare(self, other):\n",
    "    if isinstance(other, (int, float)):\n",
    "        other = Ratio(other)\n",
    "        \n",
    "    if not isinstance(other, Ratio):\n",
    "        raise TypeError(\"Other is not a Ratio, int or float\")\n",
    "        \n",
    "    return (self.num * other.den) - (other.num * self.den)\n",
    "\n",
    "Ratio.compare = compare"
   ]
  },
  {
   "cell_type": "markdown",
   "metadata": {},
   "source": [
    "## Ratio.string\n",
    "#### Returns the string name of the ratio `'num/den'`."
   ]
  },
  {
   "cell_type": "code",
   "execution_count": 27,
   "metadata": {},
   "outputs": [],
   "source": [
    "def string(self):\n",
    "    return f'{self.num}/{self.den}'\n",
    "\n",
    "Ratio.string = string"
   ]
  },
  {
   "cell_type": "markdown",
   "metadata": {},
   "source": [
    "## `Ratio.reciprocal`\n",
    "#### Returns `1 / ratio`."
   ]
  },
  {
   "cell_type": "code",
   "execution_count": 28,
   "metadata": {},
   "outputs": [],
   "source": [
    "def reciprocal(self):\n",
    "    return self.__invert__()\n",
    "\n",
    "Ratio.reciprocal = reciprocal"
   ]
  },
  {
   "cell_type": "markdown",
   "metadata": {},
   "source": [
    "## Ratio.dotted\n",
    "#### Returns the musical 'dotted' value of the ratio, e.g. 1 / 4 with one dot is 1 / 4 + 1 / 8 = 3 / 8.\n",
    "\n",
    "```\n",
    "@param dots  The number of dots to apply, each dot adds half the previous value of the ratio.\n",
    "@return A new ratio representing the dotted value.\n",
    "```\n",
    "\n",
    "The method should raise a `ValueError` if dots is not a positive integer."
   ]
  },
  {
   "cell_type": "code",
   "execution_count": 29,
   "metadata": {},
   "outputs": [],
   "source": [
    "def dotted(self, dots=1):\n",
    "    if not isinstance(dots, int):\n",
    "        raise ValueError(\"Dots is not a positive integer\")\n",
    "    elif dots <= 0:\n",
    "        raise ValueError(\"Dots is not a positive integer\")\n",
    "    \n",
    "    return self * (2 - Ratio(1, 2) ** dots)\n",
    "\n",
    "Ratio.dotted = dotted"
   ]
  },
  {
   "cell_type": "markdown",
   "metadata": {},
   "source": [
    "## `Ratio.tuplets`\n",
    "#### Returns a list of num sub-divisions (metric 'tuples') that sum to value of `ratio * num`.\n",
    "\n",
    "```\n",
    "@param num  The number of tuples to return.\n",
    "@param intimeof  A number that, when multiplied by the fraction itself, represents the sum of all the tuplets returned.\n",
    "@returns A list of num ratios that sum to the value of the Ratio.\n",
    "```\n",
    "\n",
    "Examples: `Ratio(1,4).tuplets(3)` returns three tuplets `[1/12, 1/12, 1/12]` which sum to `Ratio(1,4)`.  `Ratio(1,4).tuplets(3,2)` returns threetuplets `[1/6, 1/6, 1/6]` which sum to `ratio * 2`, or `1/2`."
   ]
  },
  {
   "cell_type": "code",
   "execution_count": 30,
   "metadata": {},
   "outputs": [],
   "source": [
    "def tuplets(self, num, intimeof=1):\n",
    "    if not isinstance(num, int):\n",
    "        raise ValueError(\"Num is not a positive integer\")\n",
    "    elif num <= 0:\n",
    "        raise ValueError(\"Num is not a positive integer\")\n",
    "    \n",
    "    if not isinstance(intimeof, (Ratio, int)):\n",
    "        raise TypeError(\"Intimeof is not a positive Ratio or int\")\n",
    "    elif intimeof <= 0:\n",
    "        raise TypeError(\"Intimeof is not a positive Ratio or int\")\n",
    "        \n",
    "    if isinstance(intimeof, int):\n",
    "        intimeof = Ratio(intimeof)\n",
    "    \n",
    "    return [(self * intimeof / num) for i in range(0, num)]\n",
    "\n",
    "Ratio.tuplets = tuplets"
   ]
  },
  {
   "cell_type": "markdown",
   "metadata": {},
   "source": [
    "## `Ratio.tup`\n",
    "#### Returns the ratio representing num divisions of this ratio.\n",
    "\n",
    "```\n",
    "@param num  The number to divide this ratio by.\n",
    "@return The new tuple value ratio.\n",
    "```\n",
    "\n",
    "Example:  `Ratio(1,4).tup(5)` is `1/20`"
   ]
  },
  {
   "cell_type": "code",
   "execution_count": 31,
   "metadata": {},
   "outputs": [],
   "source": [
    "def tup(self, num):\n",
    "    if not isinstance(num, (Ratio, int)):\n",
    "        raise TypeError(\"Num is not a positive Ratio or int\")\n",
    "    elif num <= 0:\n",
    "        raise TypeError(\"Num is not a positive Ratio or int\")\n",
    "        \n",
    "    if isinstance(num, int):\n",
    "        num = Ratio(num)\n",
    "        \n",
    "    return self / num\n",
    "\n",
    "Ratio.tup = tup"
   ]
  },
  {
   "cell_type": "markdown",
   "metadata": {},
   "source": [
    "## `Ratio.float`\n",
    "#### Returns the ratio as a floating point number."
   ]
  },
  {
   "cell_type": "code",
   "execution_count": 32,
   "metadata": {},
   "outputs": [],
   "source": [
    "def flt(self):\n",
    "    return 1.0 * self\n",
    "\n",
    "Ratio.flt = flt"
   ]
  },
  {
   "cell_type": "markdown",
   "metadata": {},
   "source": [
    "## `Ratio.seconds`\n",
    "#### Converts the ratio to floating point seconds according to a given tempo and beat:\n",
    "\n",
    "```\n",
    "@param tempo  The tempo in beats per minute. Defaults to 60.\n",
    "@param beat  A ratio representing the beat. Defaults to 1/4 (quarter note).\n",
    "```"
   ]
  },
  {
   "cell_type": "code",
   "execution_count": 33,
   "metadata": {},
   "outputs": [],
   "source": [
    "def seconds(self, tempo=60, beat=Ratio(1, 4)):\n",
    "    if not isinstance(tempo, (Ratio, int)):\n",
    "        raise TypeError(\"Tempo is not a positive Ratio or int\")\n",
    "    elif tempo <= 0:\n",
    "        raise TypeError(\"Tempo is not a positive Ratio or int\")\n",
    "        \n",
    "    if isinstance(tempo, int):\n",
    "        tempo = Ratio(tempo)\n",
    "        \n",
    "    if not isinstance(beat, (Ratio, int)):\n",
    "        raise TypeError(\"Beat is not a positive Ratio or int\")\n",
    "    elif beat <= 0:\n",
    "        raise TypeError(\"Beat is not a positive Ratio or int\")\n",
    "        \n",
    "    if isinstance(beat, int):\n",
    "        beat = Ratio(beat)\n",
    "    \n",
    "    return (self / beat / tempo * 60) * 1.0\n",
    "\n",
    "Ratio.seconds = seconds"
   ]
  }
 ],
 "metadata": {
  "kernelspec": {
   "display_name": "Python 3",
   "language": "python",
   "name": "python3"
  },
  "language_info": {
   "codemirror_mode": {
    "name": "ipython",
    "version": 3
   },
   "file_extension": ".py",
   "mimetype": "text/x-python",
   "name": "python",
   "nbconvert_exporter": "python",
   "pygments_lexer": "ipython3",
   "version": "3.6.8"
  }
 },
 "nbformat": 4,
 "nbformat_minor": 2
}
